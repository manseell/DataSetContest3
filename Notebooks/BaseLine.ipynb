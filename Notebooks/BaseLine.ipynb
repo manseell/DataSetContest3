{
  "cells": [
    {
      "cell_type": "markdown",
      "metadata": {
        "id": "a48HzTgzH5df"
      },
      "source": [
        "## 1. Download dei dati ##"
      ],
      "id": "a48HzTgzH5df"
    },
    {
      "cell_type": "code",
      "source": [
        "from google.colab import drive\n",
        "drive.mount('/content/drive')"
      ],
      "metadata": {
        "id": "I0FYSQJcqRP-",
        "outputId": "c01b03c8-496c-4f78-c151-375aa4e35a90",
        "colab": {
          "base_uri": "https://localhost:8080/",
          "height": 311
        }
      },
      "id": "I0FYSQJcqRP-",
      "execution_count": 1,
      "outputs": [
        {
          "output_type": "error",
          "ename": "MessageError",
          "evalue": "Error: credential propagation was unsuccessful",
          "traceback": [
            "\u001b[0;31m---------------------------------------------------------------------------\u001b[0m",
            "\u001b[0;31mMessageError\u001b[0m                              Traceback (most recent call last)",
            "\u001b[0;32m<ipython-input-1-d5df0069828e>\u001b[0m in \u001b[0;36m<cell line: 0>\u001b[0;34m()\u001b[0m\n\u001b[1;32m      1\u001b[0m \u001b[0;32mfrom\u001b[0m \u001b[0mgoogle\u001b[0m\u001b[0;34m.\u001b[0m\u001b[0mcolab\u001b[0m \u001b[0;32mimport\u001b[0m \u001b[0mdrive\u001b[0m\u001b[0;34m\u001b[0m\u001b[0;34m\u001b[0m\u001b[0m\n\u001b[0;32m----> 2\u001b[0;31m \u001b[0mdrive\u001b[0m\u001b[0;34m.\u001b[0m\u001b[0mmount\u001b[0m\u001b[0;34m(\u001b[0m\u001b[0;34m'/content/drive'\u001b[0m\u001b[0;34m)\u001b[0m\u001b[0;34m\u001b[0m\u001b[0;34m\u001b[0m\u001b[0m\n\u001b[0m",
            "\u001b[0;32m/usr/local/lib/python3.11/dist-packages/google/colab/drive.py\u001b[0m in \u001b[0;36mmount\u001b[0;34m(mountpoint, force_remount, timeout_ms, readonly)\u001b[0m\n\u001b[1;32m     98\u001b[0m \u001b[0;32mdef\u001b[0m \u001b[0mmount\u001b[0m\u001b[0;34m(\u001b[0m\u001b[0mmountpoint\u001b[0m\u001b[0;34m,\u001b[0m \u001b[0mforce_remount\u001b[0m\u001b[0;34m=\u001b[0m\u001b[0;32mFalse\u001b[0m\u001b[0;34m,\u001b[0m \u001b[0mtimeout_ms\u001b[0m\u001b[0;34m=\u001b[0m\u001b[0;36m120000\u001b[0m\u001b[0;34m,\u001b[0m \u001b[0mreadonly\u001b[0m\u001b[0;34m=\u001b[0m\u001b[0;32mFalse\u001b[0m\u001b[0;34m)\u001b[0m\u001b[0;34m:\u001b[0m\u001b[0;34m\u001b[0m\u001b[0;34m\u001b[0m\u001b[0m\n\u001b[1;32m     99\u001b[0m   \u001b[0;34m\"\"\"Mount your Google Drive at the specified mountpoint path.\"\"\"\u001b[0m\u001b[0;34m\u001b[0m\u001b[0;34m\u001b[0m\u001b[0m\n\u001b[0;32m--> 100\u001b[0;31m   return _mount(\n\u001b[0m\u001b[1;32m    101\u001b[0m       \u001b[0mmountpoint\u001b[0m\u001b[0;34m,\u001b[0m\u001b[0;34m\u001b[0m\u001b[0;34m\u001b[0m\u001b[0m\n\u001b[1;32m    102\u001b[0m       \u001b[0mforce_remount\u001b[0m\u001b[0;34m=\u001b[0m\u001b[0mforce_remount\u001b[0m\u001b[0;34m,\u001b[0m\u001b[0;34m\u001b[0m\u001b[0;34m\u001b[0m\u001b[0m\n",
            "\u001b[0;32m/usr/local/lib/python3.11/dist-packages/google/colab/drive.py\u001b[0m in \u001b[0;36m_mount\u001b[0;34m(mountpoint, force_remount, timeout_ms, ephemeral, readonly)\u001b[0m\n\u001b[1;32m    135\u001b[0m   )\n\u001b[1;32m    136\u001b[0m   \u001b[0;32mif\u001b[0m \u001b[0mephemeral\u001b[0m\u001b[0;34m:\u001b[0m\u001b[0;34m\u001b[0m\u001b[0;34m\u001b[0m\u001b[0m\n\u001b[0;32m--> 137\u001b[0;31m     _message.blocking_request(\n\u001b[0m\u001b[1;32m    138\u001b[0m         \u001b[0;34m'request_auth'\u001b[0m\u001b[0;34m,\u001b[0m\u001b[0;34m\u001b[0m\u001b[0;34m\u001b[0m\u001b[0m\n\u001b[1;32m    139\u001b[0m         \u001b[0mrequest\u001b[0m\u001b[0;34m=\u001b[0m\u001b[0;34m{\u001b[0m\u001b[0;34m'authType'\u001b[0m\u001b[0;34m:\u001b[0m \u001b[0;34m'dfs_ephemeral'\u001b[0m\u001b[0;34m}\u001b[0m\u001b[0;34m,\u001b[0m\u001b[0;34m\u001b[0m\u001b[0;34m\u001b[0m\u001b[0m\n",
            "\u001b[0;32m/usr/local/lib/python3.11/dist-packages/google/colab/_message.py\u001b[0m in \u001b[0;36mblocking_request\u001b[0;34m(request_type, request, timeout_sec, parent)\u001b[0m\n\u001b[1;32m    174\u001b[0m       \u001b[0mrequest_type\u001b[0m\u001b[0;34m,\u001b[0m \u001b[0mrequest\u001b[0m\u001b[0;34m,\u001b[0m \u001b[0mparent\u001b[0m\u001b[0;34m=\u001b[0m\u001b[0mparent\u001b[0m\u001b[0;34m,\u001b[0m \u001b[0mexpect_reply\u001b[0m\u001b[0;34m=\u001b[0m\u001b[0;32mTrue\u001b[0m\u001b[0;34m\u001b[0m\u001b[0;34m\u001b[0m\u001b[0m\n\u001b[1;32m    175\u001b[0m   )\n\u001b[0;32m--> 176\u001b[0;31m   \u001b[0;32mreturn\u001b[0m \u001b[0mread_reply_from_input\u001b[0m\u001b[0;34m(\u001b[0m\u001b[0mrequest_id\u001b[0m\u001b[0;34m,\u001b[0m \u001b[0mtimeout_sec\u001b[0m\u001b[0;34m)\u001b[0m\u001b[0;34m\u001b[0m\u001b[0;34m\u001b[0m\u001b[0m\n\u001b[0m",
            "\u001b[0;32m/usr/local/lib/python3.11/dist-packages/google/colab/_message.py\u001b[0m in \u001b[0;36mread_reply_from_input\u001b[0;34m(message_id, timeout_sec)\u001b[0m\n\u001b[1;32m    101\u001b[0m     ):\n\u001b[1;32m    102\u001b[0m       \u001b[0;32mif\u001b[0m \u001b[0;34m'error'\u001b[0m \u001b[0;32min\u001b[0m \u001b[0mreply\u001b[0m\u001b[0;34m:\u001b[0m\u001b[0;34m\u001b[0m\u001b[0;34m\u001b[0m\u001b[0m\n\u001b[0;32m--> 103\u001b[0;31m         \u001b[0;32mraise\u001b[0m \u001b[0mMessageError\u001b[0m\u001b[0;34m(\u001b[0m\u001b[0mreply\u001b[0m\u001b[0;34m[\u001b[0m\u001b[0;34m'error'\u001b[0m\u001b[0;34m]\u001b[0m\u001b[0;34m)\u001b[0m\u001b[0;34m\u001b[0m\u001b[0;34m\u001b[0m\u001b[0m\n\u001b[0m\u001b[1;32m    104\u001b[0m       \u001b[0;32mreturn\u001b[0m \u001b[0mreply\u001b[0m\u001b[0;34m.\u001b[0m\u001b[0mget\u001b[0m\u001b[0;34m(\u001b[0m\u001b[0;34m'data'\u001b[0m\u001b[0;34m,\u001b[0m \u001b[0;32mNone\u001b[0m\u001b[0;34m)\u001b[0m\u001b[0;34m\u001b[0m\u001b[0;34m\u001b[0m\u001b[0m\n\u001b[1;32m    105\u001b[0m \u001b[0;34m\u001b[0m\u001b[0m\n",
            "\u001b[0;31mMessageError\u001b[0m: Error: credential propagation was unsuccessful"
          ]
        }
      ]
    },
    {
      "cell_type": "code",
      "execution_count": null,
      "id": "be9f56cb",
      "metadata": {
        "id": "be9f56cb"
      },
      "outputs": [],
      "source": [
        "# Download dataset\n",
        "#!wget https://www.zemris.fer.hr/projects/LicensePlates/english/baza_slika.zip\n",
        "# Unzip file zip\n",
        "#!unzip -o -j baza_slika.zip \"*.jpg\" -d dataset"
      ]
    },
    {
      "cell_type": "markdown",
      "id": "f687007c",
      "metadata": {
        "id": "f687007c"
      },
      "source": [
        "## 2. Preparazione dei dati ##"
      ]
    },
    {
      "cell_type": "code",
      "execution_count": null,
      "id": "68ce22ff",
      "metadata": {
        "id": "68ce22ff"
      },
      "outputs": [],
      "source": [
        "import os\n",
        "\n",
        "import gc\n",
        "import matplotlib.pyplot as plt\n",
        "import numpy as np\n",
        "\n",
        "from PIL import Image\n",
        "from skimage.transform import rescale\n",
        "from skimage.util import view_as_windows\n",
        "from torch.utils.data import DataLoader, random_split"
      ]
    },
    {
      "cell_type": "code",
      "execution_count": null,
      "id": "87d7819b",
      "metadata": {
        "id": "87d7819b"
      },
      "outputs": [],
      "source": [
        "# Percorso alla cartella che contiene le immagini\n",
        "datasetPath = \"dataset\"\n",
        "\n",
        "# Lista per salvare le immagini caricate\n",
        "imgList = []\n",
        "\n",
        "# Scorrimento di tutti i file nella cartella\n",
        "i = 0\n",
        "for fileName in os.listdir(datasetPath):\n",
        "    if fileName.lower().endswith(\".jpg\"):\n",
        "        filePath = os.path.join(datasetPath, fileName)\n",
        "        img = np.array(Image.open(filePath)).astype(np.float32) / 255.0\n",
        "        img = rescale(img, (1/1.66, 1/1.66, 1)) # Passaggio da 640x480 a 386x289\n",
        "        imgList.append(img)"
      ]
    },
    {
      "cell_type": "code",
      "execution_count": null,
      "id": "6a34481a",
      "metadata": {
        "id": "6a34481a"
      },
      "outputs": [],
      "source": [
        "# Ridimensioniamo i blocchi\n",
        "def resize_blocks(blocks, scaleY, scaleX):\n",
        "    \"\"\"\n",
        "    Ridimensiona un insieme di blocchi in base a un fattore di scala\n",
        "    blocks: (n_rows, n_cols, h, w, 3)\n",
        "    scaleY: fattore di scala sull'asse Y\n",
        "    scaleX: fattore di scala sull'asse X\n",
        "    \"\"\"\n",
        "    blocksRes = []\n",
        "    for i in range(blocks.shape[0]):\n",
        "        row = []\n",
        "        for j in range(blocks.shape[1]):\n",
        "            blockLow = rescale(blocks[i][j], (scaleY,scaleX,1))\n",
        "            blockUp = rescale(blockLow, (1//scaleY, 1//scaleY, 1), order=1)\n",
        "            row.append(blockUp)\n",
        "        blocksRes.append(row)\n",
        "    return np.array(blocksRes)\n",
        "\n",
        "# Ricostruiamo l'immagine con i nuovi blocchi\n",
        "def reconstruct_img(blocks, stepY, stepX):\n",
        "    \"\"\"\n",
        "    Ricostruisce un'immagine RGB da blocchi ridimensionati sovrapposti.\n",
        "    Applica media nelle regioni sovrapposte.\n",
        "    blocks: (n_rows, n_cols, h, w, 3)\n",
        "    stepY: distanza verticale fra blocchi\n",
        "    stepX: distanza orizzontale fra blocchi\n",
        "    \"\"\"\n",
        "    nRows, nCols, h, w, c = blocks.shape\n",
        "    H = (nRows - 1) * stepY + h\n",
        "    W = (nCols - 1) * stepX + w\n",
        "    canvas = np.zeros((H, W, c), dtype=np.float64)\n",
        "    weight = np.zeros((H, W, c), dtype=np.float64)\n",
        "    for i in range(nRows):\n",
        "        for j in range(nCols):\n",
        "            top = i * stepY\n",
        "            left = j * stepX\n",
        "            canvas[top:top+h, left:left+w, :] += blocks[i, j]\n",
        "            weight[top:top+h, left:left+w, :] += 1\n",
        "    return (canvas / np.maximum(weight, 1)).astype(np.float64)\n",
        "\n",
        "def downscale_data(img, windowShape, scale, step):\n",
        "    blocks = view_as_windows(img, windowShape, step).squeeze()\n",
        "    blocksLow = resize_blocks(blocks, scale, scale)\n",
        "    imgLow = reconstruct_img(blocksLow, step, step)\n",
        "    return imgLow"
      ]
    },
    {
      "cell_type": "code",
      "execution_count": null,
      "id": "0bd875f2",
      "metadata": {
        "id": "0bd875f2"
      },
      "outputs": [],
      "source": [
        "from torch.utils.data import Dataset\n",
        "import torch\n",
        "from torchvision import transforms\n",
        "import numpy as np\n",
        "\n",
        "class ImgListDataset(Dataset):\n",
        "    def __init__(self, imgList):\n",
        "        self.imgList = imgList\n",
        "        self.target_size = (289, 386)  # Altezza, larghezza desiderata\n",
        "        self.transform = transforms.Compose([\n",
        "            transforms.ToPILImage(),\n",
        "            transforms.Resize(self.target_size),\n",
        "            transforms.ToTensor()\n",
        "        ])\n",
        "\n",
        "    def __len__(self):\n",
        "        return len(self.imgList)\n",
        "\n",
        "    def __getitem__(self, idx):\n",
        "        img = self.imgList[idx]\n",
        "        if isinstance(img, np.ndarray):\n",
        "            img = self.transform(img)\n",
        "        return img\n",
        "\n"
      ]
    },
    {
      "cell_type": "code",
      "execution_count": null,
      "id": "22cf6d4e",
      "metadata": {
        "id": "22cf6d4e"
      },
      "outputs": [],
      "source": [
        "# Divisione dell'intero dataset in training set, validation set e test set (Circa 80%, 10% e 10%)\n",
        "trainSet, valSet, testSet = random_split(imgList, [0.8, 0.1, 0.1])\n",
        "\n",
        "windowShape = (96,96,3)\n",
        "scale = 0.5\n",
        "step = 24\n",
        "\n",
        "# Creazione dei dataset di immagini ricostruite (downscale-upscale)\n",
        "trainSetRic = []\n",
        "valSetRic = []\n",
        "testSetRic = []\n",
        "\n",
        "for el in trainSet:\n",
        "    imgLow = downscale_data(el, windowShape, scale, step)\n",
        "    trainSetRic.append(imgLow)\n",
        "\n",
        "for el in valSet:\n",
        "    imgLow = downscale_data(el, windowShape, scale, step)\n",
        "    valSetRic.append(imgLow)\n",
        "\n",
        "for el in testSet:\n",
        "    imgLow = downscale_data(el, windowShape, scale, step)\n",
        "    testSetRic.append(imgLow)"
      ]
    },
    {
      "cell_type": "code",
      "execution_count": null,
      "id": "2af2e0e1",
      "metadata": {
        "id": "2af2e0e1"
      },
      "outputs": [],
      "source": [
        "# Creazione dei DataLoader per i set\n",
        "batchSize = 6\n",
        "numWorkers = 2\n",
        "\n",
        "# Dataloader per le immagini originali\n",
        "trainSetDataset = ImgListDataset(trainSet)\n",
        "valSetDataset = ImgListDataset(valSet)\n",
        "testSetDataset = ImgListDataset(testSet)\n",
        "\n",
        "#TODO Controllare bene se usare shuffle=True\n",
        "trainDataload = DataLoader(trainSetDataset, batch_size=batchSize, shuffle=True, num_workers=numWorkers)\n",
        "valDataload = DataLoader(valSetDataset, batch_size=batchSize, num_workers=numWorkers)\n",
        "testDataload = DataLoader(testSetDataset, batch_size=batchSize, num_workers=numWorkers)\n",
        "\n",
        "# Dataloader per le immagini originali\n",
        "trainSetRicDataset = ImgListDataset(trainSetRic)\n",
        "valSetRicDataset = ImgListDataset(valSetRic)\n",
        "testSetRicDataset = ImgListDataset(testSetRic)\n",
        "\n",
        "trainDataloadRic = DataLoader(trainSetRicDataset, batch_size=batchSize, shuffle=True, num_workers=numWorkers)\n",
        "valDataloadRic = DataLoader(valSetRicDataset, batch_size=batchSize, num_workers=numWorkers)\n",
        "testDataloadRic = DataLoader(testSetRicDataset, batch_size=batchSize, num_workers=numWorkers)\n",
        "\n",
        "print(\"Effettuata suddivisione:\")\n",
        "print(f\"- Training-set: {len(trainSet)} campioni.\")\n",
        "print(f\"- Validation-set: {len(valSet)} campioni.\")\n",
        "print(f\"- Test-set: {len(testSet)} campioni.\")\n",
        "print(f\"- Training-set Ric: {len(trainSetRic)} campioni.\")\n",
        "print(f\"- Validation-set Ric: {len(valSetRic)} campioni.\")\n",
        "print(f\"- Test-set Ric: {len(testSetRic)} campioni.\")"
      ]
    },
    {
      "cell_type": "markdown",
      "id": "50c26c45",
      "metadata": {
        "id": "50c26c45"
      },
      "source": [
        "Fin qui tutto va bene..."
      ]
    },
    {
      "cell_type": "markdown",
      "id": "b895ccf1",
      "metadata": {
        "id": "b895ccf1"
      },
      "source": [
        "## 3. Architettura ##"
      ]
    },
    {
      "cell_type": "code",
      "execution_count": null,
      "id": "440f2cea",
      "metadata": {
        "id": "440f2cea"
      },
      "outputs": [],
      "source": [
        "import torch\n",
        "import torch.nn as nn\n",
        "\n",
        "class DnCNN(nn.Module):\n",
        "    def __init__(self, in_channels=3, out_channels=64, kernel_size=3, padding=1):\n",
        "        super(DnCNN, self).__init__()\n",
        "        layers = []\n",
        "            # Primo blocco convoluzionale\n",
        "            # in_channel = 3 poichè 3 canali\n",
        "            # out_channel = 64 come scritto nella traccia (num feat)\n",
        "            # kernel_size = 3 come scritto nella traccia (dim spaziale 3x3)\n",
        "\n",
        "        # Iter 1: Convolution + ReLU\n",
        "        layers.append(nn.Conv2d(in_channels=in_channels, out_channels=out_channels, kernel_size=kernel_size, padding=padding))\n",
        "        layers.append(nn.ReLU())\n",
        "\n",
        "        # Iters 2-16: Convolution + BatchNorm + ReLU\n",
        "        for i in range(15):\n",
        "            layers.append(nn.Conv2d(in_channels=out_channels, out_channels=out_channels, kernel_size=kernel_size, padding=padding))\n",
        "            layers.append(nn.BatchNorm2d(out_channels))                    # Corrisponde al numero di canali di output del livello precedente\n",
        "            layers.append(nn.ReLU())\n",
        "\n",
        "        # Iters 17: Convolution\n",
        "        layers.append(nn.Conv2d(in_channels=out_channels, out_channels=in_channels, kernel_size=kernel_size, padding=padding))\n",
        "\n",
        "        # *layers corrisponde a layers[0],layers[1],..., quindi già spalmati come singoli elementi\n",
        "        self.features = nn.Sequential(*layers)\n",
        "\n",
        "        self.apply(self.kernel_initializer)\n",
        "\n",
        "    def forward(self, x):\n",
        "        return self.features(x)\n",
        "\n",
        "    # Equivalente a kernel_inizializer=\"Orthogonal\" in pytorch\n",
        "    def kernel_initializer(self, module):\n",
        "        if isinstance(module, nn.Conv2d):\n",
        "            nn.init.orthogonal_(module.weight)\n"
      ]
    },
    {
      "cell_type": "markdown",
      "id": "76be591b",
      "metadata": {
        "id": "76be591b"
      },
      "source": [
        "## 4. Addestramento ##"
      ]
    },
    {
      "cell_type": "code",
      "execution_count": null,
      "id": "d154678e",
      "metadata": {
        "id": "d154678e"
      },
      "outputs": [],
      "source": [
        "# Librerie\n",
        "import time"
      ]
    },
    {
      "cell_type": "code",
      "execution_count": null,
      "id": "52c4f5aa",
      "metadata": {
        "id": "52c4f5aa"
      },
      "outputs": [],
      "source": [
        "# Abilitiamo il dispositivo GPU per il training\n",
        "device = torch.device(\"cuda:0\" if torch.cuda.is_available() else \"cpu\")\n",
        "device"
      ]
    },
    {
      "cell_type": "code",
      "execution_count": null,
      "id": "770ddf07",
      "metadata": {
        "id": "770ddf07"
      },
      "outputs": [],
      "source": [
        "# Criterion deve essere torch.nn.MSELoss(size_average=None, reduce=None, reduction='mean')\n",
        "# Legenda dataloader:\n",
        "#   - dlTrain = immagini originali training\n",
        "#   - dlTrainRic = immagini ricostruite (downscalate-upscalate) training\n",
        "#   - dlVal = immagini originali validation\n",
        "#   - dlValRic = immagini ricostruite (downscalate-upscalate) validation\n",
        "\n",
        "\n",
        "def training (dlTrain, dlTrainRic, dlVal, dlValRic, numEpoch, model, criterion, optimizer, bestMse, bestPsnr, bestEpoch, outputPath):\n",
        "\n",
        "    # Liste dei risultati definite per la visualizzazione\n",
        "    MSETrainList = []\n",
        "    MSEValList = []\n",
        "    PSNRTrainList = []\n",
        "    PSNRValList = []\n",
        "\n",
        "    # Iterazione per ogni epoch\n",
        "    for epoch in range(numEpoch):\n",
        "\n",
        "        model.cuda()\n",
        "        # Conteggio del tempo per misurare la durata di un'epoca\n",
        "        since = time.time()\n",
        "\n",
        "        # Inizializzazione delle variabili\n",
        "        modelMseTrain = 0.0\n",
        "        totalSize = 0\n",
        "\n",
        "        # Modello impostato in traning mode\n",
        "        model.train()\n",
        "\n",
        "        # Iterazione per ogni batch\n",
        "        # Devo iterare su i 2 dataloader contemporaneamente, per fare ciò utilizzo zip\n",
        "        for (inputsTrain, inputsRic) in zip(dlTrain, dlTrainRic):\n",
        "\n",
        "            # Converto gli input in tensori float e li carico nella GPU\n",
        "            inputsTrain = inputsTrain.type(torch.FloatTensor).cuda()\n",
        "            inputsRic = inputsRic.type(torch.FloatTensor).cuda()\n",
        "\n",
        "            # Reset dei gradienti, altrimenti i vecchi gradienti sono sommati ai nuovi, piuttosto\n",
        "            # che essere sovrascritti\n",
        "            optimizer.zero_grad()\n",
        "            model.zero_grad()\n",
        "\n",
        "            # Calcolo dettagli e ricostruzione immagine\n",
        "            yTrain = model(inputsRic)\n",
        "            y = yTrain + inputsRic\n",
        "\n",
        "            # Calcolo della MSE\n",
        "            loss = criterion(y, inputsTrain)\n",
        "            # size(0) restituisce il numero di campioni nel batch, quindi si sta moltiplicando la loss\n",
        "            # media per il numero di elementi per ottenere la somma totale della loss\n",
        "            modelMseTrain += loss.item() * inputsTrain.size(0)\n",
        "            totalSize += inputsTrain.size(0)\n",
        "\n",
        "            # Calcolando il gradiente del tensore attuale\n",
        "            loss.backward()\n",
        "            # Esecuzione di un singolo step di ottimizzazione in modo tale da aggiornare i pesi\n",
        "            optimizer.step()\n",
        "\n",
        "            del loss\n",
        "\n",
        "        # Calcolo della MSE medio e del PSNR medio  dell'epoch\n",
        "        modelMseEpochTrain = modelMseTrain/totalSize\n",
        "        modelPsnrEpochTrain = 10 * torch.log10(torch.tensor(1/modelMseEpochTrain))\n",
        "\n",
        "        # Salvataggio dei pesi per ogni iterazione\n",
        "        # torch.save(model.state_dict(), outputPath + \"train_weights.pth\")\n",
        "\n",
        "        # Modello impostato in validation mode\n",
        "        model.eval()\n",
        "\n",
        "        # Inizializzazione delle variabili\n",
        "        modelMseVal = 0.0\n",
        "        totalSizeVal = 0\n",
        "\n",
        "        with torch.no_grad():               # Disattiva il calcolo dei gradienti\n",
        "        # Iterazione per ogni bach\n",
        "        # Devo iterare su i 2 dataloader contemporaneamente, per fare ciò utilizzo zip\n",
        "            for (inputsVal, inputsValRic) in zip(dlVal, dlValRic):\n",
        "\n",
        "                # Converto gli input in tensori float e li carico nella GPU\n",
        "                inputsVal = inputsVal.type(torch.FloatTensor).cuda()\n",
        "                inputsValRic = inputsValRic.type(torch.FloatTensor).cuda()\n",
        "\n",
        "                # Calcolo dettagli\n",
        "                yVal = model(inputsValRic)\n",
        "                y = yVal + inputsValRic\n",
        "\n",
        "                # Calcolo della MSE\n",
        "                loss = criterion(y, inputsVal)\n",
        "                # size(0) restituisce il numero di campioni nel batch, quindi si sta moltiplicando la loss\n",
        "                # media per il numero di elementi per ottenere la somma totale della loss\n",
        "                modelMseVal += loss.item() * inputsVal.size(0)\n",
        "                totalSizeVal += inputsVal.size(0)\n",
        "\n",
        "            # Calcolo della MSE medio e del PSNR medio  dell'epoch\n",
        "            modelMseEpochVal = modelMseVal/totalSizeVal\n",
        "            modelPsnrEpochVal = 10 * torch.log10(torch.tensor(1/modelMseEpochVal))\n",
        "            timeElapsed = time.time()-since\n",
        "\n",
        "        print('[Epoch %d][Train on %d [MSE: %.4f  PSNR: %.4f]][Val on %d [MSE: %.4f  PSNR: %.4f]][Time: %.0f m %.0f s]'\n",
        "                %(epoch, totalSize, modelMseEpochTrain, modelPsnrEpochTrain, totalSizeVal, modelMseEpochVal,\n",
        "                modelPsnrEpochVal, timeElapsed // 60, timeElapsed % 60))\n",
        "\n",
        "        # Salvaggio dei risultati migliori\n",
        "        if (modelMseEpochVal < bestMse):\n",
        "            print(\"-------Saving best weights-------\")\n",
        "            bestMse = modelMseEpochVal\n",
        "            bestPsnr = modelPsnrEpochVal\n",
        "            bestEpoch = epoch\n",
        "            # Salvataggio dei migliori risultati\n",
        "            try:\n",
        "                torch.save(model.cpu().state_dict(), outputPath)\n",
        "                print(\"-------Best weights saved-------\")\n",
        "            except Exception as e:\n",
        "                print(\"Error:\", e)\n",
        "\n",
        "        # Salvataggio dei risultati per la visualizzazione\n",
        "        MSETrainList.append(modelMseEpochTrain)\n",
        "        MSEValList.append(modelMseEpochVal)\n",
        "        PSNRTrainList.append(modelPsnrEpochTrain)\n",
        "        PSNRValList.append(modelPsnrEpochVal)\n",
        "\n",
        "    return bestMse, bestPsnr, MSETrainList, MSEValList, PSNRTrainList, PSNRValList\n",
        "\n",
        "\n"
      ]
    },
    {
      "cell_type": "code",
      "execution_count": null,
      "id": "c13e3c40",
      "metadata": {
        "id": "c13e3c40"
      },
      "outputs": [],
      "source": [
        "# Funzione di testing\n",
        "\n",
        "def testing (dlTest, dlTestRic, model, criterion, weightPath):\n",
        "\n",
        "    # Caricamento dei pesi\n",
        "    model.load_state_dict(torch.load(weightPath, map_location=torch.device(\"cpu\")))\n",
        "    model.cuda()\n",
        "\n",
        "\n",
        "    # Conteggio del tempo per misurare la durata di un'epoca\n",
        "    since = time.time()\n",
        "\n",
        "    # Inizializzazione delle variabili\n",
        "    modelMseTest = 0.0\n",
        "    totalSize = 0\n",
        "    outputsTest = []\n",
        "\n",
        "\n",
        "    #model.load_state_dict(torch.load(weightPath , map_location=device))\n",
        "    model.eval()\n",
        "\n",
        "    # Iterazione su batch\n",
        "    with torch.no_grad():               # Disattiva il calcolo dei gradienti\n",
        "        for (inputsTest, inputsTestRic) in zip(dlTest, dlTestRic):\n",
        "\n",
        "\n",
        "            # Converto gli input in tensori float e li carico nella GPU\n",
        "            inputsTest = inputsTest.type(torch.FloatTensor).cuda()\n",
        "            inputsTestRic = inputsTestRic.type(torch.FloatTensor).cuda()\n",
        "\n",
        "            # Calcolo dettagli e ricostruzione immagine\n",
        "            yTest = model(inputsTestRic)\n",
        "            y = yTest + inputsTestRic\n",
        "            outputsTest.append(y)\n",
        "\n",
        "            # Calcolo della MSE\n",
        "            loss = criterion(y, inputsTest)\n",
        "            # size(0) restituisce il numero di campioni nel batch, quindi si sta moltiplicando la loss\n",
        "            # media per il numero di elementi per ottenere la somma totale della loss\n",
        "            modelMseTest += loss.item() * inputsTest.size(0)\n",
        "            totalSize += inputsTest.size(0)\n",
        "\n",
        "\n",
        "        # Calcolo della MSE medio e del PSNR medio  dell'epoch\n",
        "        modelMseEpochTest = modelMseTest/totalSize\n",
        "        modelPsnrEpochTest = 10 * torch.log10(torch.tensor(1/modelMseEpochTest))\n",
        "        timeElapsed = time.time()-since\n",
        "\n",
        "        print(\"[Test] [MSE: %.4f  PSNR: %.4f] [Time: %.0f m %.0f s]\"\n",
        "          %(modelMseEpochTest, modelPsnrEpochTest, timeElapsed // 60, timeElapsed % 60))\n",
        "\n",
        "        return outputsTest"
      ]
    },
    {
      "cell_type": "markdown",
      "id": "ca6fc029",
      "metadata": {
        "id": "ca6fc029"
      },
      "source": [
        "## 5. Valutazione delle prestazioni ##"
      ]
    },
    {
      "cell_type": "code",
      "execution_count": null,
      "id": "627e8766",
      "metadata": {
        "id": "627e8766"
      },
      "outputs": [],
      "source": [
        "def graphVisualization(MseModelTrain, MseModelVal, PSNRModelTrain, PSNRModelVal):\n",
        "\n",
        "    # Visualizzazione delle liste come subplot\n",
        "    fig, ax = plt.subplots(2, 1, figsize=(4, 5), constrained_layout=True)\n",
        "\n",
        "    # Visualizzazione di MSE Training vs Validation\n",
        "    ax[0].set_xlabel(\"Epoch\", fontsize=10)\n",
        "    ax[0].set_ylabel(\"MSE\", fontsize=10)\n",
        "    ax[0].set_title(\"MSE Training vs Validation\", fontsize=10)\n",
        "    ax[0].plot(range(len(MseModelTrain)), MseModelTrain, color=\"r\", marker=\"o\", label=\"Training MSE\")\n",
        "    ax[0].plot(range(len(MseModelVal)), MseModelVal, color=\"b\", marker=\"o\", label=\"Validation MSE\")\n",
        "    ax[0].set_xlim([0, max(len(MseModelTrain), len(MseModelVal))-0.5])\n",
        "    ax[0].set_ylim([0.02, 0.2])\n",
        "    ax[0].legend()\n",
        "    ax[0].grid(True)\n",
        "\n",
        "    # Visualizzazione di PSNR Training vs Validation\n",
        "    ax[1].set_xlabel(\"Epoch\", fontsize=10)\n",
        "    ax[1].set_ylabel(\"PSNR\", fontsize=10)\n",
        "    ax[1].set_title(\"PSNR Training vs Validation\", fontsize=10)\n",
        "    ax[1].plot(range(len(PSNRModelTrain)), PSNRModelTrain, color=\"r\", marker=\"o\", label=\"Training PSNR\")\n",
        "    ax[1].plot(range(len(PSNRModelVal)), PSNRModelVal, color=\"b\", marker=\"o\", label=\"Validation PSNR\")\n",
        "    ax[1].set_xlim([0, max(len(PSNRModelTrain), len(PSNRModelVal))-0.5])\n",
        "    ax[1].set_ylim([50, 100])\n",
        "    ax[1].legend()\n",
        "    ax[1].grid(True)\n",
        "\n",
        "    plt.show()\n",
        "\n"
      ]
    },
    {
      "cell_type": "code",
      "execution_count": null,
      "id": "6b5cd243",
      "metadata": {
        "id": "6b5cd243"
      },
      "outputs": [],
      "source": [
        "# Iper parametri\n",
        "#epochList = [20, 30, 40, 50, 60]\n",
        "#learningRateList = [0.01, 0.001, 0.0001]\n",
        "\n",
        "epochList = [20,30,40]\n",
        "learningRateList = [0.01,0.001,0.0001]\n",
        "\n"
      ]
    },
    {
      "cell_type": "code",
      "execution_count": null,
      "id": "25666195",
      "metadata": {
        "id": "25666195"
      },
      "outputs": [],
      "source": [
        "# Main\n",
        "import torch.optim as optim\n",
        "\n",
        "model = DnCNN().cuda()\n",
        "criterion = torch.nn.MSELoss(size_average=None, reduce=None, reduction='mean')\n",
        "\n",
        "bestMSEComb = 9000000000000000000.0              # Miglior MSE tra tutte le combinazioni\n",
        "bestPSNRComb = -900000000000000000.0             # Miglior PSNR tra tutte le combinazioni\n",
        "\n",
        "weightPath = \"best_weights.pth\"\n",
        "weightPathComb = \"best_weights_lr.pth\""
      ]
    },
    {
      "cell_type": "code",
      "execution_count": null,
      "id": "8dfc263c",
      "metadata": {
        "id": "8dfc263c"
      },
      "outputs": [],
      "source": [
        "\n",
        "# Training\n",
        "for numEpoch in epochList:\n",
        "    for lr in learningRateList:\n",
        "        optimizer = optim.Adam(model.parameters(), lr=lr)\n",
        "\n",
        "        bestMse = 9000000000000000000.0             # Miglior MSE della singola combinazione\n",
        "        bestPsnr = -900000000000000000.0            # Miglior PSNR della singola combinazione\n",
        "        bestEpoch = -1\n",
        "\n",
        "        bestMSES, bestPSNRS, MSETrainList, MSEValList, PSNRTrainList, PSNRValList = training (trainDataload, trainDataloadRic, valDataload, valDataloadRic, numEpoch, model, criterion, optimizer, bestMse, bestPsnr, bestEpoch, weightPath)\n",
        "\n",
        "        # Aggiorno i valori di miglior MSE\n",
        "        if bestMSES < bestMSEComb:\n",
        "            bestMSEComb = bestMSES\n",
        "            bestPSNRComb = bestPSNRS\n",
        "            # Caricamento dei pesi\n",
        "            torch.save(model.cpu().state_dict(), weightPathComb)\n",
        "            print(f\"------Best Combination saved [Epoch: {numEpoch} - Learning Rate: {lr}]-------\")\n",
        "            model.cuda()\n",
        "\n",
        "        #graphVisualization(MSETrainList, MSEValList, PSNRTrainList, PSNRValList)\n",
        "\n",
        "print(f\"Best MSE: {bestMSEComb}\")\n",
        "print(f\"Best PSNR: {bestPSNRComb}\")\n",
        "\n",
        "\n",
        "\n"
      ]
    },
    {
      "cell_type": "code",
      "execution_count": null,
      "id": "3dc8e01c",
      "metadata": {
        "id": "3dc8e01c"
      },
      "outputs": [],
      "source": [
        "# Testing\n",
        "outputsTest = testing(testDataload, testDataloadRic, model, criterion, weightPathComb)\n",
        "\n",
        "for i, batch in enumerate(outputsTest):\n",
        "    for j in range(batch.size(0)):\n",
        "        img = batch[j].detach().cpu()\n",
        "        img = img.permute(1, 2, 0).numpy()  # [C, H, W] -> [H, W, C]\n",
        "\n",
        "        plt.figure()\n",
        "        plt.imshow(img)\n",
        "        plt.title(f'Output Image {i}_{j}')\n"
      ]
    }
  ],
  "metadata": {
    "kernelspec": {
      "display_name": "Python 3",
      "name": "python3"
    },
    "language_info": {
      "codemirror_mode": {
        "name": "ipython",
        "version": 3
      },
      "file_extension": ".py",
      "mimetype": "text/x-python",
      "name": "python",
      "nbconvert_exporter": "python",
      "pygments_lexer": "ipython3",
      "version": "3.12.9"
    },
    "colab": {
      "provenance": [],
      "gpuType": "T4"
    },
    "accelerator": "GPU"
  },
  "nbformat": 4,
  "nbformat_minor": 5
}